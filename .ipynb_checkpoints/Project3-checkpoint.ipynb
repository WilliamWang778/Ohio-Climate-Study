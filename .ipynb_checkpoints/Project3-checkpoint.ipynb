{
 "cells": [
  {
   "cell_type": "code",
   "execution_count": null,
   "id": "016229af-1a6b-4f6a-a4d8-5bbdcba59987",
   "metadata": {},
   "outputs": [],
   "source": [
    "import pandas as pd\n",
    "import matplotlib.pyplot as plt\n",
    "import numpy as np\n"
   ]
  },
  {
   "cell_type": "code",
   "execution_count": null,
   "id": "af2780a8-9a1e-400a-ac69-b17f685c0f1c",
   "metadata": {
    "tags": []
   },
   "outputs": [],
   "source": [
    "\n",
    "\n",
    "\n",
    "discharge_data = pd.read_csv('discharge_2020.csv')\n",
    "gage_height_data = pd.read_csv('gage_height_2020.csv')\n",
    "weather_data = pd.read_csv('weather_2020.csv')\n",
    "\n",
    "# Remove any non-numeric rows (e.g., first row with invalid data)\n",
    "discharge_data_clean = discharge_data.iloc[1:].copy()  # Remove the first row and make a copy\n",
    "gage_height_data_clean = gage_height_data.iloc[1:].copy()  # Remove the first row and make a copy\n",
    "\n",
    "# Convert the datetime columns to a standard format for merging\n",
    "discharge_data_clean['datetime'] = pd.to_datetime(discharge_data_clean['datetime'], format='%Y/%m/%d %H:%M')\n",
    "gage_height_data_clean['datetime'] = pd.to_datetime(gage_height_data_clean['datetime'], format='%Y/%m/%d %H:%M')\n",
    "weather_data['Date'] = pd.to_datetime(weather_data['Date'], format='%m/%d/%Y')\n",
    "\n",
    "# Merge discharge and gage height on datetime\n",
    "merged_data = pd.merge(discharge_data_clean, gage_height_data_clean, on='datetime', suffixes=('_discharge', '_gage'))\n",
    "\n",
    "# Align with weather data using the date part of datetime\n",
    "merged_data['date_only'] = merged_data['datetime'].dt.date\n",
    "weather_data['date_only'] = weather_data['Date'].dt.date\n",
    "\n",
    "# Final merge with weather data\n",
    "final_data = pd.merge(merged_data, weather_data, on='date_only')\n",
    "\n",
    "# Drop unnecessary columns\n",
    "final_data_cleaned = final_data.drop(columns=['Date', 'date_only'])\n",
    "\n",
    "# Drop unnecessary columns from the merged dataframe\n",
    "columns_to_drop = [\n",
    "    'agency_cd_discharge', 'site_no_discharge', 'tz_cd_discharge', '110247_00060_cd', 'Unnamed: 6_discharge',\n",
    "    'agency_cd_gage', 'site_no_gage', 'tz_cd_gage', '110246_00065_cd', 'Unnamed: 6_gage',\n",
    "    'Departure', 'HDD', 'CDD', 'New Snow', 'Snow Depth'\n",
    "]\n",
    "\n",
    "# Clean the final dataframe by dropping the specified columns\n",
    "final_data_cleaned = final_data.drop(columns=columns_to_drop)\n",
    "\n",
    "# Display the cleaned dataframe\n",
    "print(final_data_cleaned.head())\n",
    "\n",
    "\n",
    "\n",
    "\n"
   ]
  },
  {
   "cell_type": "markdown",
   "id": "9b3eb5e7-b0e2-4c1e-945e-4d8635934389",
   "metadata": {},
   "source": [
    "# 1. Flood Significance Analysis Using Creek Data"
   ]
  },
  {
   "cell_type": "code",
   "execution_count": null,
   "id": "24ebbc2b-31c7-42e7-b531-716a2c5c6f72",
   "metadata": {},
   "outputs": [],
   "source": [
    "\n",
    "\n",
    "# Set the chunk size\n",
    "chunk_size = 10000  # You can adjust the chunk size based on your system's memory capacity\n",
    "\n",
    "# Initialize variables to store max, mean, and count\n",
    "max_gage_height = 0\n",
    "sum_gage_height = 0\n",
    "row_count = 0\n",
    "\n",
    "max_discharge = 0\n",
    "sum_discharge = 0\n",
    "\n",
    "# Process the data in chunks\n",
    "for chunk in pd.read_csv('/path/to/your_data.csv', chunksize=chunk_size):\n",
    "    # Compute the max for each chunk\n",
    "    max_gage_height = max(max_gage_height, chunk['110246_00065'].max())\n",
    "    max_discharge = max(max_discharge, chunk['110247_00060'].max())\n",
    "    \n",
    "    # Sum the gage height and discharge for each chunk\n",
    "    sum_gage_height += chunk['110246_00065'].sum()\n",
    "    sum_discharge += chunk['110247_00060'].sum()\n",
    "    \n",
    "    # Count the rows in each chunk\n",
    "    row_count += chunk.shape[0]\n",
    "\n",
    "# After processing all chunks, calculate the mean\n",
    "mean_gage_height = sum_gage_height / row_count\n",
    "mean_discharge = sum_discharge / row_count\n",
    "\n",
    "print(f\"Max Gage Height: {max_gage_height}\")\n",
    "print(f\"Average Gage Height: {mean_gage_height}\")\n",
    "print(f\"Max Discharge: {max_discharge}\")\n",
    "print(f\"Average Discharge: {mean_discharge}\")\n"
   ]
  },
  {
   "cell_type": "code",
   "execution_count": null,
   "id": "ff07d7da-5700-4b59-9b41-cd424430e8cb",
   "metadata": {
    "tags": []
   },
   "outputs": [],
   "source": [
    "# Compute the mean and max of gage height and discharge, and measure the time taken\n",
    "\n",
    "import time\n",
    "\n",
    "start_time = time.time()\n",
    "\n",
    "max_gage_height = final_data_cleaned['110246_00065'].max()\n",
    "avg_gage_height = final_data_cleaned['110246_00065'].mean()\n",
    "\n",
    "max_discharge = final_data_cleaned['110247_00060'].max()\n",
    "avg_discharge = final_data_cleaned['110247_00060'].mean()\n",
    "\n",
    "end_time = time.time()\n",
    "\n",
    "print(f\"Time taken for max and mean calculations: {end_time - start_time} seconds\")\n"
   ]
  },
  {
   "cell_type": "code",
   "execution_count": null,
   "id": "7566b28d-c5d5-427d-9c34-301f4d956ee9",
   "metadata": {},
   "outputs": [],
   "source": [
    "# Calculate maximum and average gage height\n",
    "max_gage_height = final_data_cleaned['110246_00065'].max()\n",
    "avg_gage_height = final_data_cleaned['110246_00065'].mean()\n",
    "\n",
    "print(f\"Maximum Gage Height: {max_gage_height} feet\")\n",
    "print(f\"Average Gage Height: {avg_gage_height} feet\")\n"
   ]
  },
  {
   "cell_type": "code",
   "execution_count": null,
   "id": "f27d8363-8968-4e05-ab33-00031df1d233",
   "metadata": {},
   "outputs": [],
   "source": []
  }
 ],
 "metadata": {
  "kernelspec": {
   "display_name": "Python 3 (ipykernel)",
   "language": "python",
   "name": "python3"
  },
  "language_info": {
   "codemirror_mode": {
    "name": "ipython",
    "version": 3
   },
   "file_extension": ".py",
   "mimetype": "text/x-python",
   "name": "python",
   "nbconvert_exporter": "python",
   "pygments_lexer": "ipython3",
   "version": "3.11.4"
  }
 },
 "nbformat": 4,
 "nbformat_minor": 5
}
